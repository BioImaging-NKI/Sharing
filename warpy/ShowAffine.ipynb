{
 "cells": [
  {
   "cell_type": "markdown",
   "id": "8bbd1e63-62d8-4c56-99fa-2d9c7cfdd0dd",
   "metadata": {},
   "source": [
    "# Inspect Warpy's Affine transformations\n",
    "It seems it is just shifting and scaling in xy"
   ]
  },
  {
   "cell_type": "code",
   "execution_count": 1,
   "id": "68e3dcf2-34ab-4b08-a06b-dc56cd4382af",
   "metadata": {},
   "outputs": [],
   "source": [
    "from pathlib import Path\n",
    "import json\n",
    "import numpy as np"
   ]
  },
  {
   "cell_type": "code",
   "execution_count": 2,
   "id": "a01f0148-d8a1-4296-b821-9f8044a73d8b",
   "metadata": {
    "scrolled": true
   },
   "outputs": [
    {
     "data": {
      "text/plain": [
       "array([ 2.42534722e-04,  0.00000000e+00,  0.00000000e+00, -8.38757830e+00,\n",
       "        0.00000000e+00,  2.42647059e-04,  0.00000000e+00, -7.34723162e+00,\n",
       "        0.00000000e+00,  0.00000000e+00,  1.00000000e-03, -5.00000000e-04])"
      ]
     },
     "execution_count": 2,
     "metadata": {},
     "output_type": "execute_result"
    }
   ],
   "source": [
    "jsonfile = Path(r'transform.json')\n",
    "with open(jsonfile) as f:\n",
    "    data = json.load(f)\n",
    "affine1 = np.array(data['realTransform_0']['affinetransform3d'])\n",
    "tps = data['realTransform_1']['wrappedTransform']['wrappedTransform']\n",
    "affine2 = np.array(data['realTransform_2']['affinetransform3d'])\n",
    "srcPts = np.array(tps['srcPts'])\n",
    "tgtPts = np.array(tps['tgtPts'])\n",
    "affine1  # numbers in the 3D affine transform. Z is multiplied by 0.001 and then moved by -0.0005 ?"
   ]
  },
  {
   "cell_type": "code",
   "execution_count": 3,
   "id": "c4620691-c662-461d-b09d-6a2d1360e89b",
   "metadata": {},
   "outputs": [
    {
     "data": {
      "text/plain": [
       "array([1.97186899e+03, 0.00000000e+00, 0.00000000e+00, 1.63200000e+04,\n",
       "       0.00000000e+00, 1.97186899e+03, 0.00000000e+00, 1.41295000e+04,\n",
       "       0.00000000e+00, 0.00000000e+00, 1.00000000e+03, 5.00000000e-01])"
      ]
     },
     "execution_count": 3,
     "metadata": {},
     "output_type": "execute_result"
    }
   ],
   "source": [
    "affine2  # numbers in the 3D affine transform. Z is multiplied by 1000 and then moved by 0.5 . That moves it back. Seems useless in 2D."
   ]
  },
  {
   "cell_type": "code",
   "execution_count": 4,
   "id": "d9c0f1e7-c1ad-4d62-961f-994210d51f0b",
   "metadata": {},
   "outputs": [
    {
     "name": "stdout",
     "output_type": "stream",
     "text": [
      "Affine 1:\n",
      "[[ 2.42534722e-04  0.00000000e+00 -8.38757830e+00]\n",
      " [ 0.00000000e+00  2.42647059e-04 -7.34723162e+00]\n",
      " [ 0.00000000e+00  0.00000000e+00  1.00000000e+00]]\n",
      "Affine 2:\n",
      "[[1.97186899e+03 0.00000000e+00 1.63200000e+04]\n",
      " [0.00000000e+00 1.97186899e+03 1.41295000e+04]\n",
      " [0.00000000e+00 0.00000000e+00 1.00000000e+00]]\n"
     ]
    }
   ],
   "source": [
    "def reshape_affine(array_in):\n",
    "    return np.array([[array_in[0], array_in[1],array_in[3]],\n",
    "                     [array_in[4], array_in[5],array_in[7]],\n",
    "                     [0.0, 0.0,1.0]])\n",
    "affine1=reshape_affine(affine1)\n",
    "affine2=reshape_affine(affine2)\n",
    "print('Affine 1:')\n",
    "print(affine1)\n",
    "print('Affine 2:')\n",
    "print(affine2)  \n",
    "# typical representation of the affine transform for dot product transformation:"
   ]
  },
  {
   "cell_type": "code",
   "execution_count": 5,
   "id": "32714939-e8d3-48d0-a674-4dac0bda7ebe",
   "metadata": {},
   "outputs": [
    {
     "data": {
      "text/plain": [
       "array([[   0.4782467 ,    0.        , -219.20558867],\n",
       "       [   0.        ,    0.47846821, -358.27822461],\n",
       "       [   0.        ,    0.        ,    1.        ]])"
      ]
     },
     "execution_count": 5,
     "metadata": {},
     "output_type": "execute_result"
    }
   ],
   "source": [
    "affine_c = np.dot(np.transpose(affine1), np.transpose(affine2))\n",
    "np.transpose(affine_c)  # combined affine transformation without the tps. \n",
    "# Pixels are scaled 0.478 and shifted in x and y.\n",
    "# I suspect that large shifts and scales of the original two transforms are to map the \n",
    "# origine <0 ; 0> to the center of the image and normalize the range to be between -10 and 10 in x and y. "
   ]
  },
  {
   "cell_type": "code",
   "execution_count": 6,
   "id": "b7e70fb5-82cf-4348-8647-939cee1f7e1a",
   "metadata": {},
   "outputs": [],
   "source": [
    "srcPts = np.transpose(np.concatenate((srcPts, np.ones((1,len(srcPts[0]))))))\n",
    "# bit silly to take the sourcepoints of the tps ofcourse, but just to show affine transformation any point would do."
   ]
  },
  {
   "cell_type": "code",
   "execution_count": 7,
   "id": "0d32a2f3-a6f5-4f20-9282-a40102c0ede8",
   "metadata": {},
   "outputs": [],
   "source": [
    "resPts = np.dot(np.dot(srcPts, np.transpose(affine1)), np.transpose(affine2))"
   ]
  },
  {
   "cell_type": "code",
   "execution_count": 8,
   "id": "7d6d38a4-f985-46a5-a445-1fd8bb15418a",
   "metadata": {},
   "outputs": [
    {
     "data": {
      "text/plain": [
       "array([-8.615536  , -7.00012132,  1.        ])"
      ]
     },
     "execution_count": 8,
     "metadata": {},
     "output_type": "execute_result"
    }
   ],
   "source": [
    "srcPts[0]  # original"
   ]
  },
  {
   "cell_type": "code",
   "execution_count": 9,
   "id": "057b6323-d5ac-47f7-9039-a6df7c6797d6",
   "metadata": {},
   "outputs": [
    {
     "data": {
      "text/plain": [
       "array([-223.32594032, -361.62756014,    1.        ])"
      ]
     },
     "execution_count": 9,
     "metadata": {},
     "output_type": "execute_result"
    }
   ],
   "source": [
    "resPts[0]  # transformed without tps"
   ]
  },
  {
   "cell_type": "code",
   "execution_count": 10,
   "id": "b078179e-dab3-4d32-b3bc-8d9744f5e0a9",
   "metadata": {},
   "outputs": [
    {
     "name": "stdout",
     "output_type": "stream",
     "text": [
      "-223.32594033073119\n",
      "-361.6275601277632\n"
     ]
    }
   ],
   "source": [
    "print(-8.615536*0.4782467 -219.20558867)\n",
    "print(-7.00012132*0.47846821 -358.27822461)"
   ]
  }
 ],
 "metadata": {
  "kernelspec": {
   "display_name": "Python 3 (ipykernel)",
   "language": "python",
   "name": "python3"
  },
  "language_info": {
   "codemirror_mode": {
    "name": "ipython",
    "version": 3
   },
   "file_extension": ".py",
   "mimetype": "text/x-python",
   "name": "python",
   "nbconvert_exporter": "python",
   "pygments_lexer": "ipython3",
   "version": "3.12.7"
  }
 },
 "nbformat": 4,
 "nbformat_minor": 5
}
